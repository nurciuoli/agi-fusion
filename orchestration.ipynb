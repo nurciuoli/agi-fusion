{
 "cells": [
  {
   "cell_type": "code",
   "execution_count": 1,
   "metadata": {},
   "outputs": [
    {
     "name": "stdout",
     "output_type": "stream",
     "text": [
      "===============================================================\n",
      "                             USER\n",
      "===============================================================\n",
      "hi\n",
      "===============================================================\n",
      "                          ASSISTANT\n",
      "===============================================================\n",
      "Hi there! It's nice to meet you. Is there something I can help you with, or would you like to chat?\n"
     ]
    }
   ],
   "source": [
    "from myLlama import LlamaAgent\n",
    "\n",
    "agentl = LlamaAgent('You are a chat based assistant')\n",
    "\n",
    "agentl.chat('hi')"
   ]
  },
  {
   "cell_type": "code",
   "execution_count": 2,
   "metadata": {},
   "outputs": [
    {
     "name": "stdout",
     "output_type": "stream",
     "text": [
      "===============================================================\n",
      "                             USER\n",
      "===============================================================\n",
      "hi\n",
      "===============================================================\n",
      "                          ASSISTANT\n",
      "===============================================================\n",
      "Hello! How can I assist you today?\n"
     ]
    }
   ],
   "source": [
    "from myClaude import ClaudeAgent\n",
    "\n",
    "agentc = ClaudeAgent('You are a chat based assistant')\n",
    "\n",
    "agentc.chat('hi')"
   ]
  },
  {
   "cell_type": "code",
   "execution_count": 4,
   "metadata": {},
   "outputs": [
    {
     "name": "stdout",
     "output_type": "stream",
     "text": [
      "===============================================================\n",
      "                             USER\n",
      "===============================================================\n",
      "hi\n",
      "===============================================================\n",
      "                           ASSISTANT\n",
      "===============================================================\n",
      "assistant: Hello! How can I assist you today?\n",
      "\n",
      "\n"
     ]
    }
   ],
   "source": [
    "from myGpt import GptAgent\n",
    "\n",
    "agentg = GptAgent('GptAgent','You are a chat based assistant')\n",
    "\n",
    "agentg.chat('hi')"
   ]
  },
  {
   "cell_type": "code",
   "execution_count": 1,
   "metadata": {},
   "outputs": [],
   "source": [
    "from myGpt import GptAgent\n",
    "from tools import post_plan,instruct_help\n",
    "\n",
    "#use GPT4 turbo to come up with plan and llama3 to execute\n",
    "agent = GptAgent(name = 'ProjectManager',\n",
    "               role_context=\"\"\"You are a project manager, users will come to you with general queries and your job is to use instruct_help and give clear and detailed instructions for a worker to execute.\n",
    "                 YOU MUST CALL THIS instruct_help\"\"\",\n",
    "               tools = [{\"type\": \"function\", \"function\": instruct_help},],\n",
    "               model = \"gpt-4-turbo\")"
   ]
  },
  {
   "cell_type": "code",
   "execution_count": 2,
   "metadata": {},
   "outputs": [
    {
     "name": "stdout",
     "output_type": "stream",
     "text": [
      "===============================================================\n",
      "                             USER\n",
      "===============================================================\n",
      "Can you help me design my own backtest class in python? the user will add a dataframe with a column fwd_ret and factor data. I want to accomplish two things calculate the IC for each factor and then backtest the spread return based on 5 quantiles\n",
      "===============================================================\n",
      "                               HELPING\n",
      "===============================================================\n",
      "Here's an example implementation of a `Backtest` class:\n",
      "\n",
      "```python\n",
      "import pandas as pd\n",
      "from scipy.stats import spearmanr\n",
      "\n",
      "class Backtest:\n",
      "    def __init__(self, df):\n",
      "        self.df = df\n",
      "        \n",
      "    def calculate_ic(self):\n",
      "        ic_values = {}\n",
      "        \n",
      "        for col in self.df.columns.drop('fwd_ret'):\n",
      "            rank_corr, _ = spearmanr(self.df['fwd_ret'], self.df[col])\n",
      "            ic_values[col] = rank_corr\n",
      "            \n",
      "        return pd.DataFrame(list(ic_values.items()), columns=['factor', 'IC'])\n",
      "    \n",
      "    def create_quantiles(self):\n",
      "        quantile_df = {}\n",
      "        \n",
      "        for period in self.df.index.unique():\n",
      "            df_period = self.df.loc[period]\n",
      "            \n",
      "            for col in df_period.columns.drop('fwd_ret'):\n",
      "                df_period[col] = pd.qcut(df_period[col], q=5, labels=False, duplicates='raise')\n",
      "                \n",
      "            quantile_df[period] = df_period\n",
      "        \n",
      "        return pd.Panel(quantile_df).to_frame().reset_index()\n",
      "\n",
      "    def backtest_quantile_spread(self):\n",
      "        quantile_df = self.create_quantiles()\n",
      "        \n",
      "        spread_df = {}\n",
      "        \n",
      "        for period in quantile_df.index.unique():\n",
      "            df_period = quantile_df.loc[period]\n",
      "            \n",
      "            top_quantile = df_period.groupby((df_period['fwd_ret'] > 0).cumsum()).mean().iloc[-1, :].values\n",
      "            bottom_quantile = df_period.groupby((df_period['fwd_ret'] < 0).cumsum()).mean().iloc[-1, :].values\n",
      "            \n",
      "            spread_df[period] = (top_quantile - bottom_quantile).mean()\n",
      "        \n",
      "        return pd.DataFrame(spread_df.values(), index=spread_df.keys(), columns=['Spread'])\n",
      "```\n",
      "\n",
      "Now we'll test the `Backtest` class with a sample DataFrame:\n",
      "\n",
      "```python\n",
      "# Load necessary libraries\n",
      "import pandas as pd\n",
      "\n",
      "# Create a sample DataFrame\n",
      "data = {\n",
      "    'fwd_ret': [0.1, 0.2, -0.3, 0.4, -0.5],\n",
      "    'Factor A': [-0.5, -0.4, -0.3, 0.2, 0.1],\n",
      "    'Factor B': [0.2, 0.3, 0.4, 0.5, 0.6]\n",
      "}\n",
      "\n",
      "df = pd.DataFrame(data)\n",
      "\n",
      "# Create an instance of the Backtest class\n",
      "backtest = Backtest(df)\n",
      "\n",
      "# Calculate IC values for each factor\n",
      "ic_values = backtest.calculate_ic()\n",
      "print(ic_values)\n",
      "\n",
      "# Perform quantile ranking and calculate spread between top and bottom quantiles\n",
      "quantile_spread = backtest.backtest_quantile_spread()\n",
      "print(quantile_spread)\n",
      "```\n",
      "\n",
      "In the above test, we are creating a sample DataFrame `df` that contains the 'fwd_ret' column for forward returns along with two factor columns. We then create an instance of the `Backtest` class and call its methods to calculate IC values and backtesting quantile spread.\n",
      "\n",
      "Remember to adapt your actual data into this code."
     ]
    }
   ],
   "source": [
    "agent.chat('Can you help me design my own backtest class in python? the user will add a dataframe with a column fwd_ret and factor data. I want to accomplish two things calculate the IC for each factor and then backtest the spread return based on 5 quantiles')"
   ]
  },
  {
   "cell_type": "markdown",
   "metadata": {},
   "source": [
    "---------------"
   ]
  }
 ],
 "metadata": {
  "kernelspec": {
   "display_name": "agi",
   "language": "python",
   "name": "python3"
  },
  "language_info": {
   "codemirror_mode": {
    "name": "ipython",
    "version": 3
   },
   "file_extension": ".py",
   "mimetype": "text/x-python",
   "name": "python",
   "nbconvert_exporter": "python",
   "pygments_lexer": "ipython3",
   "version": "3.11.8"
  }
 },
 "nbformat": 4,
 "nbformat_minor": 2
}
