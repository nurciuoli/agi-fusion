{
 "cells": [
  {
   "cell_type": "code",
   "execution_count": 1,
   "metadata": {},
   "outputs": [
    {
     "name": "stdout",
     "output_type": "stream",
     "text": [
      "===============================================================\n",
      "                             USER\n",
      "===============================================================\n",
      "hi\n",
      "===============================================================\n",
      "                          ASSISTANT\n",
      "===============================================================\n",
      "Hi there! It's nice to meet you. Is there something I can help you with or would you like to chat about something in particular?\n"
     ]
    }
   ],
   "source": [
    "from myLlama import LlamaAgent\n",
    "\n",
    "agentl = LlamaAgent('You are a chat based assistant')\n",
    "\n",
    "agentl.chat('hi')"
   ]
  },
  {
   "cell_type": "code",
   "execution_count": 2,
   "metadata": {},
   "outputs": [
    {
     "name": "stdout",
     "output_type": "stream",
     "text": [
      "===============================================================\n",
      "                             USER\n",
      "===============================================================\n",
      "hi\n",
      "===============================================================\n",
      "                          ASSISTANT\n",
      "===============================================================\n",
      "Hello! How can I assist you today?\n"
     ]
    }
   ],
   "source": [
    "from myClaude import ClaudeAgent\n",
    "\n",
    "agentc = ClaudeAgent('You are a chat based assistant')\n",
    "\n",
    "agentc.chat('hi')"
   ]
  },
  {
   "cell_type": "code",
   "execution_count": 3,
   "metadata": {},
   "outputs": [
    {
     "name": "stdout",
     "output_type": "stream",
     "text": [
      "===============================================================\n",
      "                             USER\n",
      "===============================================================\n",
      "hi\n",
      "===============================================================\n",
      "                           ASSISTANT\n",
      "===============================================================\n",
      "assistant: Hello! How can I assist you today?\n",
      "\n",
      "\n"
     ]
    }
   ],
   "source": [
    "from myGpt import GptAgent\n",
    "\n",
    "agentg = GptAgent('GptAgent','You are a chat based assistant')\n",
    "\n",
    "agentg.chat('hi')"
   ]
  },
  {
   "cell_type": "code",
   "execution_count": 4,
   "metadata": {},
   "outputs": [],
   "source": [
    "from myGpt import GptAgent\n",
    "from tools import get_help\n",
    "\n",
    "#use GPT4 turbo to come up with plan and llama3 to execute\n",
    "agent = GptAgent(name = 'ProjectManager',\n",
    "               role_context=\"\"\"You are a project manager, users will come to you with general queries and your job is to use get_help and give clear and detailed instructions for a worker to execute.\n",
    "                 YOU MUST CALL THIS get_help\"\"\",\n",
    "               tools = [{\"type\": \"function\", \"function\": get_help},],\n",
    "               model = \"gpt-4-turbo\")"
   ]
  },
  {
   "cell_type": "code",
   "execution_count": 5,
   "metadata": {},
   "outputs": [
    {
     "name": "stdout",
     "output_type": "stream",
     "text": [
      "===============================================================\n",
      "                             USER\n",
      "===============================================================\n",
      "Can you tell me a joke about airplanes and then a story about puppies?\n",
      "===============================================================\n",
      "                         GETTING HELP\n",
      "===============================================================\n",
      "Instructions: Create a joke about airplanes. Deliver a humorous one-liner or short joke centered around the theme of airplanes that is lighthearted and suitable for a general audience.\n",
      "===============================================================\n",
      "Why did the airplane go to therapy?\n",
      "\n",
      "Because it had a little \"turbulence\" in its relationship!\n",
      "\n",
      "Hope that one \"took off\" with you!\n",
      "\n",
      "===============================================================\n",
      "                         GETTING HELP\n",
      "===============================================================\n",
      "Instructions: Create a short story about puppies. The story should be engaging, filled with playful and heartwarming moments, and suitable for all ages. This story should make the reader feel happy and warm inside, ideal for a light-hearted read.\n",
      "===============================================================\n",
      "\"The Adventures of Luna and Leo\"\n",
      "\n",
      "In a cozy little house on a quiet street, a litter of playful puppies was born. Among them were two mischievous bundles of joy, Luna and Leo. From the moment they opened their big brown eyes, it was clear that these two were going to be best friends.\n",
      "\n",
      "As soon as they could wobble around on their paws, Luna and Leo took over the house. They chased each other up and down the stairs, playing a game of tag that left everyone in stitches. Their favorite toy was a little stuffed rabbit that they would tug-of-war with until it was barely attached to its stuffing.\n",
      "\n",
      "One sunny afternoon, while their human family was busy in the backyard, Luna and Leo decided to have an adventure of their own. They snuck out of the doggy door and set off on a mission to explore the neighborhood.\n",
      "\n",
      "The first stop on their tour was the nearby park, where they made friends with a playful squirrel named Squeaky. Luna and Leo chased Squeaky up a tree, laughing and yelping with glee. As they played, they discovered a hidden talent for climbing – much to the surprise of the park's squirrels.\n",
      "\n",
      "Next, the dynamic duo visited Mrs. Jenkins' bakery, where they sniffed out a fresh batch of treats. Luna and Leo managed to sneak in a few sniffs without getting caught (Mrs. Jenkins was too busy making dog biscuits to notice). They left with their tails wagging, paws full of crumbs, and big smiles on their faces.\n",
      "\n",
      "As the sun began to set, Luna and Leo curled up together in a cozy little ball, tired but content from their escapades. As they drifted off to sleep, they shared a secret: they knew that no matter what adventures lay ahead, they would always have each other's backs (or should we say, paws?).\n",
      "\n",
      "From that day on, Luna and Leo became local celebrities, known for their bravery, loyalty, and infectious joy. Their family loved them more than treats, and the neighborhood pets adored their playful nature.\n",
      "\n",
      "As you read this story, can't help but smile at the thought of those two little bundles of fluff, living life to the fullest? Well, that's exactly what Luna and Leo did – and still do, as they continue to spread joy and laughter throughout the land.\n",
      "\n"
     ]
    }
   ],
   "source": [
    "agent.chat('Can you tell me a joke about airplanes and then a story about puppies?')"
   ]
  },
  {
   "cell_type": "markdown",
   "metadata": {},
   "source": [
    "---------------"
   ]
  }
 ],
 "metadata": {
  "kernelspec": {
   "display_name": "agi",
   "language": "python",
   "name": "python3"
  },
  "language_info": {
   "codemirror_mode": {
    "name": "ipython",
    "version": 3
   },
   "file_extension": ".py",
   "mimetype": "text/x-python",
   "name": "python",
   "nbconvert_exporter": "python",
   "pygments_lexer": "ipython3",
   "version": "3.11.8"
  }
 },
 "nbformat": 4,
 "nbformat_minor": 2
}
