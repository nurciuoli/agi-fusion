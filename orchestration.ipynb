{
 "cells": [
  {
   "cell_type": "code",
   "execution_count": 1,
   "metadata": {},
   "outputs": [
    {
     "name": "stdout",
     "output_type": "stream",
     "text": [
      "===============================================================\n",
      "                             USER\n",
      "===============================================================\n",
      "hi\n",
      "===============================================================\n",
      "                          ASSISTANT\n",
      "===============================================================\n",
      "Hi there! It's nice to meet you. Is there something I can help you with or would you like to chat about something in particular?\n"
     ]
    }
   ],
   "source": [
    "from myLlama import LlamaAgent\n",
    "\n",
    "agentl = LlamaAgent('You are a chat based assistant')\n",
    "\n",
    "agentl.chat('hi')"
   ]
  },
  {
   "cell_type": "code",
   "execution_count": 2,
   "metadata": {},
   "outputs": [
    {
     "name": "stdout",
     "output_type": "stream",
     "text": [
      "===============================================================\n",
      "                             USER\n",
      "===============================================================\n",
      "hi\n",
      "===============================================================\n",
      "                          ASSISTANT\n",
      "===============================================================\n",
      "Hello! How can I assist you today?\n"
     ]
    }
   ],
   "source": [
    "from myClaude import ClaudeAgent\n",
    "\n",
    "agentc = ClaudeAgent('You are a chat based assistant')\n",
    "\n",
    "agentc.chat('hi')"
   ]
  },
  {
   "cell_type": "code",
   "execution_count": 3,
   "metadata": {},
   "outputs": [
    {
     "name": "stdout",
     "output_type": "stream",
     "text": [
      "===============================================================\n",
      "                             USER\n",
      "===============================================================\n",
      "hi\n",
      "===============================================================\n",
      "                           ASSISTANT\n",
      "===============================================================\n",
      "assistant: Hello! How can I assist you today?\n",
      "\n",
      "\n"
     ]
    }
   ],
   "source": [
    "from myGpt import GptAgent\n",
    "\n",
    "agentg = GptAgent('GptAgent','you are a friend assistant')\n",
    "\n",
    "agentg.create_thread_and_run('hi')"
   ]
  }
 ],
 "metadata": {
  "kernelspec": {
   "display_name": "agi",
   "language": "python",
   "name": "python3"
  },
  "language_info": {
   "codemirror_mode": {
    "name": "ipython",
    "version": 3
   },
   "file_extension": ".py",
   "mimetype": "text/x-python",
   "name": "python",
   "nbconvert_exporter": "python",
   "pygments_lexer": "ipython3",
   "version": "3.11.8"
  }
 },
 "nbformat": 4,
 "nbformat_minor": 2
}
